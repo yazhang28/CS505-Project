{
 "cells": [
  {
   "cell_type": "code",
   "execution_count": 11,
   "metadata": {
    "collapsed": false
   },
   "outputs": [
    {
     "data": {
      "text/plain": [
       "[0.95191413649673784,\n",
       " 0.96014811107234344,\n",
       " 0.96838208564794903,\n",
       " 0.97661606022355452,\n",
       " 0.98485003479916011,\n",
       " 0.99308400937476571,\n",
       " 1.0013179839503712,\n",
       " 1.0095519585259769,\n",
       " 1.0177859331015824,\n",
       " 1.0260199076771881,\n",
       " 1.0342538822527936,\n",
       " 1.0424878568283993,\n",
       " 1.0507218314040048,\n",
       " 1.0589558059796103,\n",
       " 1.067189780555216,\n",
       " 1.0754237551308214,\n",
       " 1.0836577297064269,\n",
       " 1.0918917042820326,\n",
       " 1.1001256788576381,\n",
       " 1.1083596534332438,\n",
       " 1.1165936280088493,\n",
       " 1.124827602584455,\n",
       " 1.1330615771600605,\n",
       " 1.141295551735666]"
      ]
     },
     "execution_count": 11,
     "metadata": {},
     "output_type": "execute_result"
    }
   ],
   "source": [
    "# %matplotlib inline\n",
    "import pandas as pd\n",
    "import statsmodels.formula.api as smf\n",
    "import statsmodels.api as sm\n",
    "import matplotlib.pyplot as plt\n",
    "\n",
    "# day map used to convert days to numbers for linear regression\n",
    "DAY_MAP = {'Sunday': 1, \\\n",
    "          'Monday': 2, \\\n",
    "          'Tuesday': 3, \\\n",
    "          'Wednesday': 4, \\\n",
    "          'Thursday': 5, \\\n",
    "          'Friday': 6, \\\n",
    "          'Saturday': 7}\n",
    "\n",
    "# filter criteria (user entered)\n",
    "# district = 'A1'\n",
    "# type_crime = 'Larceny'\n",
    "# user_day = 3\n",
    "# user_hour = 22\n",
    "\n",
    "def predictAmountCrimes(district, type_crime, user_day, user_hour):\n",
    "    df = pd.read_csv('cleaned_crime_data.csv')\n",
    "    \n",
    "    # look at only data relevant to this district\n",
    "    df_district = df[df['district'] == district]\n",
    "    \n",
    "    # get all possible hours and days of the week \n",
    "    hours = list(set(df_district['hour'].tolist()))\n",
    "    days_of_week = list(set(df_district['day_of_week'].tolist()))\n",
    "    \n",
    "    # iterate through filtered dataframes to find when and how much the specified crimes occur\n",
    "    relation_list = []\n",
    "    for day in days_of_week:\n",
    "        df_by_day = df_district[df_district['day_of_week'] == day]\n",
    "        for hour in hours: \n",
    "            df_by_day_hour = df_by_day[df_by_day['hour'] == hour]\n",
    "            count = 0\n",
    "            for ind, row in df_by_day_hour.iterrows():\n",
    "                if row['offense_type'] == type_crime:\n",
    "                    count += 1\n",
    "            if count != 0:\n",
    "                relation_list.append({'hour': hour, 'day': DAY_MAP[day],'total_crimes': count})\n",
    "    \n",
    "    # convert to a dataframe to do linear regression as a predictor for total occurences of that crime\n",
    "    df_crimes = pd.DataFrame.from_records(relation_list)\n",
    "    \n",
    "    # if nothing was found in the dataframe do do regression\n",
    "    if not df_crimes.shape[0]:\n",
    "        return 0\n",
    "    else: \n",
    "        # perform multiple linear regression\n",
    "        res = smf.ols(formula=\"total_crimes ~ day + hour\", data=df_crimes).fit()\n",
    "#         print(res.summary())\n",
    "        \n",
    "        # make a prediction based upon the day and hour for a specific crime within a district\n",
    "        day_predictions = []\n",
    "        for i in range(24):\n",
    "            day_predictions.append(res.predict(exog={'day':user_day, 'hour':i})[0])\n",
    "        return day_predictions\n",
    "\n",
    "#     fig = plt.figure(figsize=(10,8))\n",
    "#     fig = sm.graphics.plot_partregress_grid(res,fig=fig)\n",
    "#     plt.show()\n",
    "# predictAmountCrimes('A1','Larceny', 3, 22)\n",
    "predictAmountCrimes('A1', 'Rape/Sexual Assault', 3, 22)"
   ]
  },
  {
   "cell_type": "code",
   "execution_count": 9,
   "metadata": {
    "collapsed": false
   },
   "outputs": [
    {
     "name": "stdout",
     "output_type": "stream",
     "text": [
      "Optimization terminated successfully.\n",
      "         Current function value: 0.018348\n",
      "         Iterations 11\n"
     ]
    },
    {
     "data": {
      "text/plain": [
       "[0.0674458146240422,\n",
       " 0.051669158240292869,\n",
       " 0.039426889788557413,\n",
       " 0.029993511611684575,\n",
       " 0.02276369979130342,\n",
       " 0.017245620656004702,\n",
       " 0.013047303399565077,\n",
       " 0.0098607799984407191,\n",
       " 0.0074466245710720982,\n",
       " 0.0056201574523698046,\n",
       " 0.0042397625397196225,\n",
       " 0.0031973231432931397,\n",
       " 0.0024105700532649869,\n",
       " 0.0018170573916781712,\n",
       " 0.0013694744059256068,\n",
       " 0.0010320274054760954,\n",
       " 0.00077766469132824298,\n",
       " 0.0005859577159197689,\n",
       " 0.0004414887426993723,\n",
       " 0.00033262701080937098,\n",
       " 0.00025060153625634416,\n",
       " 0.00018879963813191235,\n",
       " 0.00014223679744829832,\n",
       " 0.00010715631862031134]"
      ]
     },
     "execution_count": 9,
     "metadata": {},
     "output_type": "execute_result"
    }
   ],
   "source": [
    "# %matplotlib inline\n",
    "import pandas as pd\n",
    "import statsmodels.formula.api as smf\n",
    "import statsmodels.api as sm\n",
    "import matplotlib.pyplot as plt\n",
    "\n",
    "# day map used to convert days to numbers for linear regression\n",
    "DAY_MAP = {'Sunday': 1, \\\n",
    "          'Monday': 2, \\\n",
    "          'Tuesday': 3, \\\n",
    "          'Wednesday': 4, \\\n",
    "          'Thursday': 5, \\\n",
    "          'Friday': 6, \\\n",
    "          'Saturday': 7}\n",
    "\n",
    "# filter criteria (user entered)\n",
    "# district = 'E13'\n",
    "# type_crime = \"Bombs/Explosives\"\n",
    "# user_day = 2\n",
    "# user_hour = 8\n",
    "\n",
    "\n",
    "def predictProbabilityOfCrime(district, type_crime, user_day, user_hour):\n",
    "    # flag to avoid Perfect Seperation error (when all is_crime is either 0 or 1)\n",
    "    not_available = True\n",
    "\n",
    "    df = pd.read_csv('cleaned_crime_data.csv')\n",
    "    \n",
    "    # filter inital df with the specified district\n",
    "    df_district = df[df['district'] == district]\n",
    "    \n",
    "    # find all possible hours and days for this district\n",
    "    hours = list(set(df_district['hour'].tolist()))\n",
    "    days_of_week = list(set(df_district['day_of_week'].tolist()))\n",
    "    \n",
    "    # iterate through filtered dataframes to find when the exact crimes occured in comparison to other crimes\n",
    "    relation_list = []\n",
    "    for day in days_of_week:\n",
    "        df_by_day = df_district[df_district['day_of_week'] == day]\n",
    "        for hour in hours: \n",
    "            df_by_day_hour = df_by_day[df_by_day['hour'] == hour]\n",
    "            for ind, row in df_by_day_hour.iterrows():\n",
    "                is_crime = 0\n",
    "                if row['offense_type'] == type_crime:\n",
    "                    not_available = False # switch to false, results are varied now\n",
    "                    is_crime = 1    \n",
    "                relation_list.append({'is_crime': is_crime, 'hour': row['hour'], 'day': DAY_MAP[row['day_of_week']]})\n",
    "    \n",
    "    # convert to a dataframe to perform logistic regression\n",
    "    df_crimes = pd.DataFrame.from_records(relation_list)\n",
    "    \n",
    "    # if variation in is_crimes not found do not perform regression\n",
    "    if not_available:\n",
    "        return 0\n",
    "    else:\n",
    "        # get the logistic model\n",
    "        attribute_cols = df_crimes.columns[:2]\n",
    "        logit = sm.Logit(df_crimes['is_crime'], df_crimes[attribute_cols])\n",
    "        result = logit.fit()\n",
    "#         print(result.summary())\n",
    "        \n",
    "        prediction_day=[]\n",
    "        # make a prediction\n",
    "        for i in range(24):\n",
    "            prediction_day.append(result.predict([user_day, i])[0])\n",
    "            \n",
    "        return prediction_day\n",
    "\n",
    "# predictProbabilityOfCrime('E13', \"Bombs/Explosives\", 2, 8)    "
   ]
  },
  {
   "cell_type": "code",
   "execution_count": 71,
   "metadata": {
    "collapsed": false
   },
   "outputs": [],
   "source": [
    "def predictProbability(day_of_week, hour):\n",
    "    return result.predict([day_of_week, hour])"
   ]
  },
  {
   "cell_type": "code",
   "execution_count": null,
   "metadata": {
    "collapsed": true
   },
   "outputs": [],
   "source": []
  }
 ],
 "metadata": {
  "kernelspec": {
   "display_name": "Python 3",
   "language": "python",
   "name": "python3"
  },
  "language_info": {
   "codemirror_mode": {
    "name": "ipython",
    "version": 3
   },
   "file_extension": ".py",
   "mimetype": "text/x-python",
   "name": "python",
   "nbconvert_exporter": "python",
   "pygments_lexer": "ipython3",
   "version": "3.5.2"
  }
 },
 "nbformat": 4,
 "nbformat_minor": 0
}
