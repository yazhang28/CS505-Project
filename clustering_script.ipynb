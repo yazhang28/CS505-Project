{
 "cells": [
  {
   "cell_type": "code",
   "execution_count": 38,
   "metadata": {
    "collapsed": false,
    "scrolled": false
   },
   "outputs": [
    {
     "name": "stdout",
     "output_type": "stream",
     "text": [
      "On Wednesday at Morning: Clusters labeled by top category for Kmeans\n",
      "{'C6': 'Possession', 'E13': 'Larceny', 'E18': 'Assault/Battery', 'D4': 'Assault/Battery', 'A7': 'Weapons', 'B2': 'Larceny', 'A1': 'Larceny', 'E5': 'Burglary', 'C11': 'Assault/Battery', 'D14': 'Harassment', 'B3': 'Assault/Battery'}\n",
      "\n",
      "On Wednesday at Afternoon: Clusters labeled by top category for Kmeans\n",
      "{'E13': 'Assault/Battery', 'E18': 'Harassment', 'D4': 'Larceny', 'B2': 'Assault/Battery', 'A1': 'Assault/Battery', 'C11': 'Possession', 'D14': 'Burglary', 'B3': 'Larceny'}\n",
      "\n",
      "On Wednesday at Evening: Clusters labeled by top category for Kmeans\n",
      "{'C6': 'Larceny', 'E13': 'Assault/Battery', 'E18': 'Assault/Battery', 'D4': 'Larceny', 'B2': 'Possession', 'A1': 'Larceny', 'E5': 'Larceny', 'C11': 'Assault/Battery', 'D14': 'Assault/Battery', 'B3': 'Assault/Battery'}\n",
      "\n",
      "On Wednesday at Night: Clusters labeled by top category for Kmeans\n",
      "{'C6': 'Larceny', 'E13': 'Assault/Battery', 'E18': 'Burglary', 'D4': 'Larceny', 'B2': 'Larceny', 'A1': 'Larceny', 'C11': 'Assault/Battery', 'D14': 'Larceny', 'B3': 'Larceny'}\n",
      "\n"
     ]
    }
   ],
   "source": [
    "import csv\n",
    "import pandas as pd \n",
    "from sklearn.feature_extraction import DictVectorizer\n",
    "from sklearn.cluster import KMeans\n",
    "\n",
    "crime_data_dict = []\n",
    "\n",
    "def transform_to_dict(row):\n",
    "    dic = {'district': row['district'], 'offense_type': row['offense_type']}\n",
    "    crime_data_dict.append(dic)\n",
    "\n",
    "def cluster(tod, dow):\n",
    "    # transforming filtered dataframe to dictionary for vectorization\n",
    "    for ind, row in df.iterrows():\n",
    "        if ((row['tod'] == tod) and (row['day_of_week'] == dow)):\n",
    "            transform_to_dict(row)\n",
    "            \n",
    "    vectorizer = DictVectorizer()\n",
    "    crime_data = vectorizer.fit_transform(crime_data_dict).toarray()\n",
    "\n",
    "    # getting k-means\n",
    "    k = 12\n",
    "    kmeans = KMeans(n_clusters=k, init='k-means++', max_iter=100, n_init=1)\n",
    "    kmeans.fit_predict(crime_data)\n",
    "    k_labels = kmeans.labels_\n",
    "\n",
    "    # getting top terms per cluster for kmeans\n",
    "    asc_order_centroids = kmeans.cluster_centers_.argsort()#[:, ::-1]\n",
    "    order_centroids = asc_order_centroids[:,::-1]\n",
    "    terms = vectorizer.get_feature_names()\n",
    "\n",
    "    print(\"On {} at {}: Clusters labeled by top category for Kmeans\".format(dow, tod))\n",
    "    k_top_crime_district = {} # keeps track of popular crime and district by cluster\n",
    "    districts = [] # keeps track of unique district\n",
    "    \n",
    "    for i in range(k):\n",
    "        get_offense = False\n",
    "        get_district = False\n",
    "        district = ''\n",
    "        offense = ''\n",
    "        for ind in order_centroids[i, :10]:\n",
    "            # get top unique district in cluster \n",
    "            if not (get_district):\n",
    "                if terms[ind].split('=')[0] == 'district':\n",
    "                    temp = terms[ind].split('=')[1]\n",
    "                    if (temp not in districts):\n",
    "                        districts.append(temp)\n",
    "                        district = temp\n",
    "                        get_district = True\n",
    "                        \n",
    "            # get top crime in cluster        \n",
    "            if not (get_offense):\n",
    "                if (terms[ind].split('=')[0] == 'offense_type'):\n",
    "                    offense = terms[ind].split('=')[1]\n",
    "                    get_offense = True\n",
    "\n",
    "            # if both offense and district have been found add to dictionary\n",
    "            if (get_offense == True and get_district == True):\n",
    "                k_top_crime_district[district] = offense\n",
    "                break\n",
    "\n",
    "    print(k_top_crime_district)\n",
    "    print()\n",
    "    \n",
    "if __name__ == \"__main__\":\n",
    "    # reading in csv to create dataframe\n",
    "    df = pd.read_csv('cleaned_crime_data.csv')\n",
    "    cluster('Morning', 'Wednesday')\n",
    "    cluster('Afternoon', 'Wednesday')\n",
    "    cluster('Evening', 'Wednesday')\n",
    "    cluster('Night', 'Wednesday')"
   ]
  },
  {
   "cell_type": "code",
   "execution_count": null,
   "metadata": {
    "collapsed": true
   },
   "outputs": [],
   "source": []
  }
 ],
 "metadata": {
  "anaconda-cloud": {},
  "kernelspec": {
   "display_name": "Python [Root]",
   "language": "python",
   "name": "Python [Root]"
  },
  "language_info": {
   "codemirror_mode": {
    "name": "ipython",
    "version": 3
   },
   "file_extension": ".py",
   "mimetype": "text/x-python",
   "name": "python",
   "nbconvert_exporter": "python",
   "pygments_lexer": "ipython3",
   "version": "3.5.2"
  }
 },
 "nbformat": 4,
 "nbformat_minor": 0
}
